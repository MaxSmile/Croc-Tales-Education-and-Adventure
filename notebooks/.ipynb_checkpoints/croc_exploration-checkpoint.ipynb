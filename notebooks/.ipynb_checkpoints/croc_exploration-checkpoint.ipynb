{
 "cells": [
  {
   "cell_type": "code",
   "execution_count": 160,
   "id": "ec5ee478-740c-44d4-b912-63ff62dcbb1d",
   "metadata": {},
   "outputs": [],
   "source": [
    "import geoplot as gplt\n",
    "import geopandas as gpd\n",
    "import geoplot.crs as gcrs\n",
    "import imageio\n",
    "import pandas as pd\n",
    "import pathlib\n",
    "import matplotlib.pyplot as plt\n",
    "import mapclassify as mc\n",
    "import numpy as np\n",
    "\n",
    "%matplotlib inline"
   ]
  },
  {
   "cell_type": "code",
   "execution_count": 161,
   "id": "572e635b-0889-446d-aa6b-87551efd1d29",
   "metadata": {},
   "outputs": [
    {
     "data": {
      "text/html": [
       "<div>\n",
       "<style scoped>\n",
       "    .dataframe tbody tr th:only-of-type {\n",
       "        vertical-align: middle;\n",
       "    }\n",
       "\n",
       "    .dataframe tbody tr th {\n",
       "        vertical-align: top;\n",
       "    }\n",
       "\n",
       "    .dataframe thead th {\n",
       "        text-align: right;\n",
       "    }\n",
       "</style>\n",
       "<table border=\"1\" class=\"dataframe\">\n",
       "  <thead>\n",
       "    <tr style=\"text-align: right;\">\n",
       "      <th></th>\n",
       "      <th>ZONE_NAME</th>\n",
       "      <th>ZONECODE</th>\n",
       "      <th>CREATED</th>\n",
       "      <th>geometry</th>\n",
       "    </tr>\n",
       "  </thead>\n",
       "  <tbody>\n",
       "    <tr>\n",
       "      <th>0</th>\n",
       "      <td>Borroloola</td>\n",
       "      <td>8</td>\n",
       "      <td>2021-06-09</td>\n",
       "      <td>POLYGON ((136.37369 -16.97258, 136.2924 -16.97...</td>\n",
       "    </tr>\n",
       "    <tr>\n",
       "      <th>1</th>\n",
       "      <td>Katherine Zone</td>\n",
       "      <td>2</td>\n",
       "      <td>2021-06-09</td>\n",
       "      <td>POLYGON ((132.43535 -14.33214, 132.43418 -14.3...</td>\n",
       "    </tr>\n",
       "    <tr>\n",
       "      <th>2</th>\n",
       "      <td>Litchfield</td>\n",
       "      <td>5</td>\n",
       "      <td>2021-06-09</td>\n",
       "      <td>POLYGON ((130.91136 -13.01609, 130.91946 -13.0...</td>\n",
       "    </tr>\n",
       "    <tr>\n",
       "      <th>3</th>\n",
       "      <td>Lower Harbour</td>\n",
       "      <td>3</td>\n",
       "      <td>2021-06-09</td>\n",
       "      <td>POLYGON ((130.8609 -12.52685, 130.86196 -12.52...</td>\n",
       "    </tr>\n",
       "    <tr>\n",
       "      <th>4</th>\n",
       "      <td>Nhulunbuy</td>\n",
       "      <td>9</td>\n",
       "      <td>2021-06-09</td>\n",
       "      <td>MULTIPOLYGON (((136.68205 -12.59055, 136.68159...</td>\n",
       "    </tr>\n",
       "  </tbody>\n",
       "</table>\n",
       "</div>"
      ],
      "text/plain": [
       "        ZONE_NAME  ZONECODE    CREATED  \\\n",
       "0      Borroloola         8 2021-06-09   \n",
       "1  Katherine Zone         2 2021-06-09   \n",
       "2      Litchfield         5 2021-06-09   \n",
       "3   Lower Harbour         3 2021-06-09   \n",
       "4       Nhulunbuy         9 2021-06-09   \n",
       "\n",
       "                                            geometry  \n",
       "0  POLYGON ((136.37369 -16.97258, 136.2924 -16.97...  \n",
       "1  POLYGON ((132.43535 -14.33214, 132.43418 -14.3...  \n",
       "2  POLYGON ((130.91136 -13.01609, 130.91946 -13.0...  \n",
       "3  POLYGON ((130.8609 -12.52685, 130.86196 -12.52...  \n",
       "4  MULTIPOLYGON (((136.68205 -12.59055, 136.68159...  "
      ]
     },
     "execution_count": 161,
     "metadata": {},
     "output_type": "execute_result"
    }
   ],
   "source": [
    "croc = gpd.read_file(\"../data/Wildlife_CrocCaptureZones/Data/NT_Croc_Capture_Zones.shp\")\n",
    "croc = croc.rename(columns={\"ZONENAME\": \"ZONE_NAME\"})\n",
    "croc.head()"
   ]
  },
  {
   "cell_type": "code",
   "execution_count": 162,
   "id": "fc561775-bd79-4fb8-9e41-7fc7a2517e5c",
   "metadata": {},
   "outputs": [
    {
     "name": "stdout",
     "output_type": "stream",
     "text": [
      "['Litchfield', 'Katherine Zone', 'Nhulunbuy', 'Shoal Bay', 'Management Zone', 'Upper Harbour', 'Outside Management Zone', 'Borroloola', 'Lower Harbour']\n"
     ]
    }
   ],
   "source": [
    "# Show the unique zones in the shp file\n",
    "shp_zones = list(set(croc[\"ZONE_NAME\"]))\n",
    "print(shp_zones)"
   ]
  },
  {
   "cell_type": "code",
   "execution_count": 163,
   "id": "7da4c81b-4f9e-4590-aec1-6838673133a9",
   "metadata": {},
   "outputs": [
    {
     "name": "stdout",
     "output_type": "stream",
     "text": [
      "['Litchfield', 'Katherine Zone', 'Nhulunbuy', 'Shoal Bay', 'Management Zone', 'Upper Harbour', 'Outside Management Zone', 'Borroloola', 'Lower Harbour']\n"
     ]
    }
   ],
   "source": [
    "# Load the capture excel spreadsheet and show unique regions in there\n",
    "# Remove rows where ZONE_NAME is nan\n",
    "catch_count = pd.read_excel(\"../data/Wildlife_CrocCaptureZones/Information/NT Crocodile Capture.xlsx\", sheet_name=\"Daily capture\")\n",
    "catch_count = catch_count.dropna(subset=[\"ZONE_NAME\"]).groupby([\"ZONE_NAME\"])[\"ZONE_NAME\"].count().to_frame().rename(columns={\"ZONE_NAME\": \"catches\"})\n",
    "catch_count = catch_count.reset_index()\n",
    "xlsx_zones = list(set(catch_count[\"ZONE_NAME\"].tolist()))\n",
    "print(xlsx_zones)"
   ]
  },
  {
   "cell_type": "code",
   "execution_count": 164,
   "id": "729a5069-dded-4bb6-a6dc-53a204727a00",
   "metadata": {},
   "outputs": [
    {
     "data": {
      "text/html": [
       "<div>\n",
       "<style scoped>\n",
       "    .dataframe tbody tr th:only-of-type {\n",
       "        vertical-align: middle;\n",
       "    }\n",
       "\n",
       "    .dataframe tbody tr th {\n",
       "        vertical-align: top;\n",
       "    }\n",
       "\n",
       "    .dataframe thead th {\n",
       "        text-align: right;\n",
       "    }\n",
       "</style>\n",
       "<table border=\"1\" class=\"dataframe\">\n",
       "  <thead>\n",
       "    <tr style=\"text-align: right;\">\n",
       "      <th></th>\n",
       "      <th>ZONE_NAME</th>\n",
       "      <th>ZONECODE</th>\n",
       "      <th>CREATED</th>\n",
       "      <th>geometry</th>\n",
       "      <th>catches</th>\n",
       "    </tr>\n",
       "  </thead>\n",
       "  <tbody>\n",
       "    <tr>\n",
       "      <th>0</th>\n",
       "      <td>Borroloola</td>\n",
       "      <td>8</td>\n",
       "      <td>2021-06-09</td>\n",
       "      <td>POLYGON ((136.37369 -16.97258, 136.2924 -16.97...</td>\n",
       "      <td>102</td>\n",
       "    </tr>\n",
       "    <tr>\n",
       "      <th>1</th>\n",
       "      <td>Katherine Zone</td>\n",
       "      <td>2</td>\n",
       "      <td>2021-06-09</td>\n",
       "      <td>POLYGON ((132.43535 -14.33214, 132.43418 -14.3...</td>\n",
       "      <td>66</td>\n",
       "    </tr>\n",
       "    <tr>\n",
       "      <th>2</th>\n",
       "      <td>Litchfield</td>\n",
       "      <td>5</td>\n",
       "      <td>2021-06-09</td>\n",
       "      <td>POLYGON ((130.91136 -13.01609, 130.91946 -13.0...</td>\n",
       "      <td>172</td>\n",
       "    </tr>\n",
       "    <tr>\n",
       "      <th>3</th>\n",
       "      <td>Lower Harbour</td>\n",
       "      <td>3</td>\n",
       "      <td>2021-06-09</td>\n",
       "      <td>POLYGON ((130.8609 -12.52685, 130.86196 -12.52...</td>\n",
       "      <td>712</td>\n",
       "    </tr>\n",
       "    <tr>\n",
       "      <th>4</th>\n",
       "      <td>Nhulunbuy</td>\n",
       "      <td>9</td>\n",
       "      <td>2021-06-09</td>\n",
       "      <td>MULTIPOLYGON (((136.68205 -12.59055, 136.68159...</td>\n",
       "      <td>132</td>\n",
       "    </tr>\n",
       "  </tbody>\n",
       "</table>\n",
       "</div>"
      ],
      "text/plain": [
       "        ZONE_NAME  ZONECODE    CREATED  \\\n",
       "0      Borroloola         8 2021-06-09   \n",
       "1  Katherine Zone         2 2021-06-09   \n",
       "2      Litchfield         5 2021-06-09   \n",
       "3   Lower Harbour         3 2021-06-09   \n",
       "4       Nhulunbuy         9 2021-06-09   \n",
       "\n",
       "                                            geometry  catches  \n",
       "0  POLYGON ((136.37369 -16.97258, 136.2924 -16.97...      102  \n",
       "1  POLYGON ((132.43535 -14.33214, 132.43418 -14.3...       66  \n",
       "2  POLYGON ((130.91136 -13.01609, 130.91946 -13.0...      172  \n",
       "3  POLYGON ((130.8609 -12.52685, 130.86196 -12.52...      712  \n",
       "4  MULTIPOLYGON (((136.68205 -12.59055, 136.68159...      132  "
      ]
     },
     "execution_count": 164,
     "metadata": {},
     "output_type": "execute_result"
    }
   ],
   "source": [
    "# Merge the shp dataframe and excel dataframe\n",
    "merged_df = croc.merge(catch_count, left_on=\"ZONE_NAME\", right_on=\"ZONE_NAME\")\n",
    "merged_df.head()"
   ]
  },
  {
   "cell_type": "markdown",
   "id": "b68e4ffb-c1ea-4923-a3fc-dd948731e5f1",
   "metadata": {},
   "source": [
    "# States"
   ]
  },
  {
   "cell_type": "code",
   "execution_count": 165,
   "id": "b6b5fbf3-94ee-415d-9701-5c7af748b5e1",
   "metadata": {},
   "outputs": [
    {
     "data": {
      "text/html": [
       "<div>\n",
       "<style scoped>\n",
       "    .dataframe tbody tr th:only-of-type {\n",
       "        vertical-align: middle;\n",
       "    }\n",
       "\n",
       "    .dataframe tbody tr th {\n",
       "        vertical-align: top;\n",
       "    }\n",
       "\n",
       "    .dataframe thead th {\n",
       "        text-align: right;\n",
       "    }\n",
       "</style>\n",
       "<table border=\"1\" class=\"dataframe\">\n",
       "  <thead>\n",
       "    <tr style=\"text-align: right;\">\n",
       "      <th></th>\n",
       "      <th>STE_CODE21</th>\n",
       "      <th>STE_NAME21</th>\n",
       "      <th>CHG_FLAG21</th>\n",
       "      <th>CHG_LBL21</th>\n",
       "      <th>AUS_CODE21</th>\n",
       "      <th>AUS_NAME21</th>\n",
       "      <th>AREASQKM21</th>\n",
       "      <th>LOCI_URI21</th>\n",
       "      <th>geometry</th>\n",
       "    </tr>\n",
       "  </thead>\n",
       "  <tbody>\n",
       "    <tr>\n",
       "      <th>0</th>\n",
       "      <td>1</td>\n",
       "      <td>New South Wales</td>\n",
       "      <td>0</td>\n",
       "      <td>No change</td>\n",
       "      <td>AUS</td>\n",
       "      <td>Australia</td>\n",
       "      <td>8.007977e+05</td>\n",
       "      <td>http://linked.data.gov.au/dataset/asgsed3/STE/1</td>\n",
       "      <td>MULTIPOLYGON (((159.0623 -31.50886, 159.06218 ...</td>\n",
       "    </tr>\n",
       "    <tr>\n",
       "      <th>1</th>\n",
       "      <td>2</td>\n",
       "      <td>Victoria</td>\n",
       "      <td>0</td>\n",
       "      <td>No change</td>\n",
       "      <td>AUS</td>\n",
       "      <td>Australia</td>\n",
       "      <td>2.274962e+05</td>\n",
       "      <td>http://linked.data.gov.au/dataset/asgsed3/STE/2</td>\n",
       "      <td>MULTIPOLYGON (((146.29286 -39.15778, 146.29341...</td>\n",
       "    </tr>\n",
       "    <tr>\n",
       "      <th>2</th>\n",
       "      <td>3</td>\n",
       "      <td>Queensland</td>\n",
       "      <td>0</td>\n",
       "      <td>No change</td>\n",
       "      <td>AUS</td>\n",
       "      <td>Australia</td>\n",
       "      <td>1.730171e+06</td>\n",
       "      <td>http://linked.data.gov.au/dataset/asgsed3/STE/3</td>\n",
       "      <td>MULTIPOLYGON (((142.5314 -10.68301, 142.53072 ...</td>\n",
       "    </tr>\n",
       "    <tr>\n",
       "      <th>3</th>\n",
       "      <td>4</td>\n",
       "      <td>South Australia</td>\n",
       "      <td>0</td>\n",
       "      <td>No change</td>\n",
       "      <td>AUS</td>\n",
       "      <td>Australia</td>\n",
       "      <td>9.842314e+05</td>\n",
       "      <td>http://linked.data.gov.au/dataset/asgsed3/STE/4</td>\n",
       "      <td>MULTIPOLYGON (((140.66025 -38.06256, 140.66006...</td>\n",
       "    </tr>\n",
       "    <tr>\n",
       "      <th>4</th>\n",
       "      <td>5</td>\n",
       "      <td>Western Australia</td>\n",
       "      <td>0</td>\n",
       "      <td>No change</td>\n",
       "      <td>AUS</td>\n",
       "      <td>Australia</td>\n",
       "      <td>2.526632e+06</td>\n",
       "      <td>http://linked.data.gov.au/dataset/asgsed3/STE/5</td>\n",
       "      <td>MULTIPOLYGON (((117.86953 -35.19108, 117.86961...</td>\n",
       "    </tr>\n",
       "  </tbody>\n",
       "</table>\n",
       "</div>"
      ],
      "text/plain": [
       "  STE_CODE21         STE_NAME21 CHG_FLAG21  CHG_LBL21 AUS_CODE21 AUS_NAME21  \\\n",
       "0          1    New South Wales          0  No change        AUS  Australia   \n",
       "1          2           Victoria          0  No change        AUS  Australia   \n",
       "2          3         Queensland          0  No change        AUS  Australia   \n",
       "3          4    South Australia          0  No change        AUS  Australia   \n",
       "4          5  Western Australia          0  No change        AUS  Australia   \n",
       "\n",
       "     AREASQKM21                                       LOCI_URI21  \\\n",
       "0  8.007977e+05  http://linked.data.gov.au/dataset/asgsed3/STE/1   \n",
       "1  2.274962e+05  http://linked.data.gov.au/dataset/asgsed3/STE/2   \n",
       "2  1.730171e+06  http://linked.data.gov.au/dataset/asgsed3/STE/3   \n",
       "3  9.842314e+05  http://linked.data.gov.au/dataset/asgsed3/STE/4   \n",
       "4  2.526632e+06  http://linked.data.gov.au/dataset/asgsed3/STE/5   \n",
       "\n",
       "                                            geometry  \n",
       "0  MULTIPOLYGON (((159.0623 -31.50886, 159.06218 ...  \n",
       "1  MULTIPOLYGON (((146.29286 -39.15778, 146.29341...  \n",
       "2  MULTIPOLYGON (((142.5314 -10.68301, 142.53072 ...  \n",
       "3  MULTIPOLYGON (((140.66025 -38.06256, 140.66006...  \n",
       "4  MULTIPOLYGON (((117.86953 -35.19108, 117.86961...  "
      ]
     },
     "execution_count": 165,
     "metadata": {},
     "output_type": "execute_result"
    }
   ],
   "source": [
    "states = gpd.read_file(\"../data/state_zones/STE_2021_AUST_GDA2020.shp\")\n",
    "states.head()"
   ]
  },
  {
   "cell_type": "code",
   "execution_count": 166,
   "id": "d9f68ae0-ea55-42e0-beb9-38b73225b32c",
   "metadata": {},
   "outputs": [
    {
     "data": {
      "text/plain": [
       "Text(0.5, 1.0, 'Northern Territory')"
      ]
     },
     "execution_count": 166,
     "metadata": {},
     "output_type": "execute_result"
    },
    {
     "data": {
      "image/png": "[encoded data removed]",
      "text/plain": [
       "<Figure size 640x480 with 1 Axes>"
      ]
     },
     "metadata": {},
     "output_type": "display_data"
    }
   ],
   "source": [
    "states[states.STE_NAME21=='Northern Territory'].plot().set_title(\"Northern Territory\")"
   ]
  },
  {
   "cell_type": "markdown",
   "id": "d98756de-5089-4667-af3f-6871ccecaa4c",
   "metadata": {},
   "source": [
    "# Overplot"
   ]
  },
  {
   "cell_type": "code",
   "execution_count": 167,
   "id": "61a2bb1f-cfaa-48da-8ea0-191fbfed15bb",
   "metadata": {},
   "outputs": [],
   "source": [
    "merged_df = merged_df.explode()"
   ]
  },
  {
   "cell_type": "code",
   "execution_count": 168,
   "id": "094d36ed-a698-4f4d-9aca-9458ebaf8e02",
   "metadata": {},
   "outputs": [
    {
     "data": {
      "text/plain": [
       "<Axes: >"
      ]
     },
     "execution_count": 168,
     "metadata": {},
     "output_type": "execute_result"
    },
    {
     "data": {
      "image/png": "[encoded data removed]",
      "text/plain": [
       "<Figure size 800x600 with 1 Axes>"
      ]
     },
     "metadata": {},
     "output_type": "display_data"
    }
   ],
   "source": [
    "nt_polygon = states[states.STE_NAME21=='Northern Territory'].geometry.values[0]\n",
    "nt_polygons = list(nt_polygon.geoms)\n",
    "\n",
    "nt_gdf = gpd.GeoDataFrame(geometry=nt_polygons)\n",
    "ax = gplt.polyplot(nt_gdf)\n",
    "\n",
    "gplt.choropleth(\n",
    "  merged_df,\n",
    "  hue=\"catches\",\n",
    "  edgecolor=\"white\",\n",
    "  linewidth=1,\n",
    "  cmap=\"Greens\",\n",
    "  legend=True,\n",
    "  scheme=\"FisherJenks\",\n",
    "  ax=ax\n",
    ")"
   ]
  },
  {
   "cell_type": "code",
   "execution_count": 170,
   "id": "daed07f7-cd62-4d9b-a23f-856f0916b18b",
   "metadata": {},
   "outputs": [],
   "source": [
    "# Filter out some zones and focus on Darwin area\n",
    "\n",
    "def filter_rows_by_values(df, col, values):\n",
    "    return df[~df[col].isin(values)]\n",
    "\n",
    "merged_df_excluded = filter_rows_by_values(merged_df, \"ZONE_NAME\", [\"Management Zone\", \"Borroloola\", \"Katherine Zone\", \"Nhulunbuy\"])"
   ]
  },
  {
   "cell_type": "code",
   "execution_count": 172,
   "id": "b689fed9-5193-4019-8012-46c00f46c133",
   "metadata": {},
   "outputs": [
    {
     "data": {
      "text/plain": [
       "<Axes: >"
      ]
     },
     "execution_count": 172,
     "metadata": {},
     "output_type": "execute_result"
    },
    {
     "data": {
      "image/png": "[encoded data removed]",
      "text/plain": [
       "<Figure size 800x600 with 1 Axes>"
      ]
     },
     "metadata": {},
     "output_type": "display_data"
    }
   ],
   "source": [
    "nt_polygon = states[states.STE_NAME21=='Northern Territory'].geometry.values[0]\n",
    "nt_polygons = list(nt_polygon.geoms)\n",
    "\n",
    "nt_gdf = gpd.GeoDataFrame(geometry=nt_polygons)\n",
    "ax = gplt.polyplot(nt_gdf)\n",
    "\n",
    "gplt.choropleth(\n",
    "  merged_df_excluded,\n",
    "  hue=\"catches\",\n",
    "  edgecolor=\"white\",\n",
    "  linewidth=1,\n",
    "  cmap=\"Greens\",\n",
    "  legend=True,\n",
    "  scheme=\"FisherJenks\",\n",
    "  ax=ax\n",
    ")"
   ]
  },
  {
   "cell_type": "markdown",
   "id": "3afeab3f-f51b-497f-b7a1-a55fab3d90c3",
   "metadata": {},
   "source": [
    "# Croc sighting dataset"
   ]
  },
  {
   "cell_type": "code",
   "execution_count": 174,
   "id": "72a487b8-9adc-46f4-8665-33ad95c4927c",
   "metadata": {},
   "outputs": [
    {
     "data": {
      "text/html": [
       "<div>\n",
       "<style scoped>\n",
       "    .dataframe tbody tr th:only-of-type {\n",
       "        vertical-align: middle;\n",
       "    }\n",
       "\n",
       "    .dataframe tbody tr th {\n",
       "        vertical-align: top;\n",
       "    }\n",
       "\n",
       "    .dataframe thead th {\n",
       "        text-align: right;\n",
       "    }\n",
       "</style>\n",
       "<table border=\"1\" class=\"dataframe\">\n",
       "  <thead>\n",
       "    <tr style=\"text-align: right;\">\n",
       "      <th></th>\n",
       "      <th>Species_ORIGINAL</th>\n",
       "      <th>Species</th>\n",
       "      <th>Size (feet)</th>\n",
       "      <th>Position</th>\n",
       "      <th>UTC_Date</th>\n",
       "      <th>Latitude__</th>\n",
       "      <th>Longitude</th>\n",
       "    </tr>\n",
       "  </thead>\n",
       "  <tbody>\n",
       "    <tr>\n",
       "      <th>0</th>\n",
       "      <td>C. porosus</td>\n",
       "      <td>Crocodylus porosus</td>\n",
       "      <td>10</td>\n",
       "      <td>Mid-stream</td>\n",
       "      <td>2022-07-22</td>\n",
       "      <td>-12.292091</td>\n",
       "      <td>131.288925</td>\n",
       "    </tr>\n",
       "    <tr>\n",
       "      <th>1</th>\n",
       "      <td>C. porosus</td>\n",
       "      <td>Crocodylus porosus</td>\n",
       "      <td>12</td>\n",
       "      <td>Mid-stream</td>\n",
       "      <td>2022-07-22</td>\n",
       "      <td>-12.304647</td>\n",
       "      <td>131.291138</td>\n",
       "    </tr>\n",
       "    <tr>\n",
       "      <th>2</th>\n",
       "      <td>C. porosus</td>\n",
       "      <td>Crocodylus porosus</td>\n",
       "      <td>13</td>\n",
       "      <td>Shallow water on edge</td>\n",
       "      <td>2022-07-22</td>\n",
       "      <td>-12.322059</td>\n",
       "      <td>131.279416</td>\n",
       "    </tr>\n",
       "    <tr>\n",
       "      <th>3</th>\n",
       "      <td>C. porosus</td>\n",
       "      <td>Crocodylus porosus</td>\n",
       "      <td>11</td>\n",
       "      <td>Shallow water on edge</td>\n",
       "      <td>2022-07-22</td>\n",
       "      <td>-12.331566</td>\n",
       "      <td>131.269626</td>\n",
       "    </tr>\n",
       "    <tr>\n",
       "      <th>4</th>\n",
       "      <td>C. porosus</td>\n",
       "      <td>Crocodylus porosus</td>\n",
       "      <td>9</td>\n",
       "      <td>Shallow water on edge</td>\n",
       "      <td>2022-07-22</td>\n",
       "      <td>-12.332141</td>\n",
       "      <td>131.269677</td>\n",
       "    </tr>\n",
       "  </tbody>\n",
       "</table>\n",
       "</div>"
      ],
      "text/plain": [
       "  Species_ORIGINAL             Species  Size (feet)               Position  \\\n",
       "0       C. porosus  Crocodylus porosus           10             Mid-stream   \n",
       "1       C. porosus  Crocodylus porosus           12             Mid-stream   \n",
       "2       C. porosus  Crocodylus porosus           13  Shallow water on edge   \n",
       "3       C. porosus  Crocodylus porosus           11  Shallow water on edge   \n",
       "4       C. porosus  Crocodylus porosus            9  Shallow water on edge   \n",
       "\n",
       "    UTC_Date  Latitude__   Longitude  \n",
       "0 2022-07-22  -12.292091  131.288925  \n",
       "1 2022-07-22  -12.304647  131.291138  \n",
       "2 2022-07-22  -12.322059  131.279416  \n",
       "3 2022-07-22  -12.331566  131.269626  \n",
       "4 2022-07-22  -12.332141  131.269677  "
      ]
     },
     "execution_count": 174,
     "metadata": {},
     "output_type": "execute_result"
    }
   ],
   "source": [
    "# Load the capture excel spreadsheet and show unique regions in there\n",
    "# Remove rows where ZONE_NAME is nan\n",
    "sightings = pd.read_excel(\"../data/Crocodile_Survey_Data_2021_22.xlsx\")\n",
    "sightings.head()"
   ]
  },
  {
   "cell_type": "code",
   "execution_count": null,
   "id": "f160bb90-3414-44fa-bc0d-32d45b6f4101",
   "metadata": {},
   "outputs": [],
   "source": []
  }
 ],
 "metadata": {
  "kernelspec": {
   "display_name": "Python 3 (ipykernel)",
   "language": "python",
   "name": "python3"
  },
  "language_info": {
   "codemirror_mode": {
    "name": "ipython",
    "version": 3
   },
   "file_extension": ".py",
   "mimetype": "text/x-python",
   "name": "python",
   "nbconvert_exporter": "python",
   "pygments_lexer": "ipython3",
   "version": "3.10.12"
  }
 },
 "nbformat": 4,
 "nbformat_minor": 5
}
